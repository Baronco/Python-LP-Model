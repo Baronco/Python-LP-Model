{
 "cells": [
  {
   "cell_type": "markdown",
   "id": "003acc3b",
   "metadata": {},
   "source": [
    "### Modelo de Programación Lineal para la Manufactura Textil\n",
    "\n",
    "Este modelo se enfoca en maximizar la utilidad de la producción de camisetas, pantalones y chaquetas, considerando la capacidad de producción, el tiempo disponible y la demanda del mercado.\n",
    "\n",
    "#### Variables de Decisión\n",
    "- `camisetas`: Cantidad de camisetas a producir.\n",
    "- `pantalones`: Cantidad de pantalones a producir.\n",
    "- `chaquetas`: Cantidad de chaquetas a producir.\n",
    "\n",
    "#### Función Objetivo\n",
    "- La función objetivo busca **maximizar la utilidad total**, que es la diferencia entre los ingresos y los costos de producción.\n",
    "- **Utilidad** = Ingresos - Costos\n",
    "- **Maximizar** `utilidad` = (8 * `camisetas` + 15 * `pantalones` + 22 * `chaquetas`) - (5 * `camisetas` + 10 * `pantalones` + 15 * `chaquetas`)\n",
    "\n",
    "#### Restricciones\n",
    "1. **Tiempo Total de Producción**: El tiempo total invertido en la producción de los tres productos no debe exceder las 4000 horas.\n",
    "tiempo_produccion = Constraint(expr=0.5*modelo.camisetas + 1*modelo.pantalones + 1.5*modelo.chaquetas <= 4000)\n",
    "2. **Demanda del Mercado**: \n",
    "   - La producción de camisetas no debe superar las 3500 unidades.\n",
    "   - La producción de pantalones no debe superar las 3800 unidades.\n",
    "   - La producción de chaquetas debe ser al menos de 200 unidades."
   ]
  },
  {
   "cell_type": "code",
   "execution_count": null,
   "id": "71bdf5c0",
   "metadata": {},
   "outputs": [],
   "source": [
    "# Importar Biblioteca"
   ]
  },
  {
   "cell_type": "code",
   "execution_count": 133,
   "id": "77e23be6",
   "metadata": {},
   "outputs": [],
   "source": [
    "from pyomo.environ import *"
   ]
  },
  {
   "cell_type": "code",
   "execution_count": 134,
   "id": "8498971a",
   "metadata": {},
   "outputs": [],
   "source": [
    "# Creación del modelo"
   ]
  },
  {
   "cell_type": "code",
   "execution_count": 135,
   "id": "0136ebe6",
   "metadata": {},
   "outputs": [],
   "source": [
    "modelo = ConcreteModel()"
   ]
  },
  {
   "cell_type": "code",
   "execution_count": 136,
   "id": "0463c716",
   "metadata": {},
   "outputs": [],
   "source": [
    "# Variables de decisión"
   ]
  },
  {
   "cell_type": "code",
   "execution_count": 137,
   "id": "2308d0ad",
   "metadata": {},
   "outputs": [],
   "source": [
    "modelo.camisetas = Var(domain = NonNegativeReals)"
   ]
  },
  {
   "cell_type": "code",
   "execution_count": 138,
   "id": "64b19897",
   "metadata": {},
   "outputs": [],
   "source": [
    "modelo.pantalones = Var(domain = NonNegativeReals)"
   ]
  },
  {
   "cell_type": "code",
   "execution_count": 139,
   "id": "7ce611e5",
   "metadata": {},
   "outputs": [],
   "source": [
    "modelo.chaquetas = Var(domain = NonNegativeReals)"
   ]
  },
  {
   "cell_type": "code",
   "execution_count": null,
   "id": "a0ed9157",
   "metadata": {},
   "outputs": [],
   "source": [
    "# Función Objetivo"
   ]
  },
  {
   "cell_type": "code",
   "execution_count": 140,
   "id": "ad62b9a2",
   "metadata": {},
   "outputs": [],
   "source": [
    "modelo.utilidad = Objective(expr=(3*modelo.camisetas + 5*modelo.pantalones + 7*modelo.chaquetas), sense = maximize)"
   ]
  },
  {
   "cell_type": "code",
   "execution_count": null,
   "id": "b53761a4",
   "metadata": {},
   "outputs": [],
   "source": []
  },
  {
   "cell_type": "code",
   "execution_count": null,
   "id": "2f032094",
   "metadata": {},
   "outputs": [],
   "source": [
    "# Restricciones"
   ]
  },
  {
   "cell_type": "code",
   "execution_count": 141,
   "id": "0d83c38d",
   "metadata": {},
   "outputs": [],
   "source": [
    "modelo.tiempo_produccion = Constraint(expr=0.5*modelo.camisetas + 1*modelo.pantalones + 1.5*modelo.chaquetas <= 4000)"
   ]
  },
  {
   "cell_type": "code",
   "execution_count": 142,
   "id": "339cec6e",
   "metadata": {},
   "outputs": [],
   "source": [
    "modelo.demanda_camisetas = Constraint(expr=modelo.camisetas <= 3500)"
   ]
  },
  {
   "cell_type": "code",
   "execution_count": 143,
   "id": "1fc6b451",
   "metadata": {},
   "outputs": [],
   "source": [
    "modelo.demanda_pantalones = Constraint(expr=modelo.pantalones <= 3800)"
   ]
  },
  {
   "cell_type": "code",
   "execution_count": 144,
   "id": "8fec5c01",
   "metadata": {},
   "outputs": [],
   "source": [
    "modelo.demanda_chaquetas = Constraint(expr=modelo.chaquetas >= 200)"
   ]
  },
  {
   "cell_type": "code",
   "execution_count": null,
   "id": "a4751920",
   "metadata": {},
   "outputs": [],
   "source": []
  },
  {
   "cell_type": "code",
   "execution_count": null,
   "id": "626c4658",
   "metadata": {},
   "outputs": [],
   "source": [
    "# Resolver el problema usando GLPK\n"
   ]
  },
  {
   "cell_type": "code",
   "execution_count": 145,
   "id": "ded11e7f",
   "metadata": {},
   "outputs": [
    {
     "data": {
      "text/plain": [
       "{'Problem': [{'Name': 'unknown', 'Lower bound': 21650.0, 'Upper bound': 21650.0, 'Number of objectives': 1, 'Number of constraints': 5, 'Number of variables': 4, 'Number of nonzeros': 7, 'Sense': 'maximize'}], 'Solver': [{'Status': 'ok', 'Termination condition': 'optimal', 'Statistics': {'Branch and bound': {'Number of bounded subproblems': 0, 'Number of created subproblems': 0}}, 'Error rc': 0, 'Time': 0.19684982299804688}], 'Solution': [OrderedDict([('number of solutions', 0), ('number of solutions displayed', 0)])]}"
      ]
     },
     "execution_count": 145,
     "metadata": {},
     "output_type": "execute_result"
    }
   ],
   "source": [
    "SolverFactory('glpk').solve(modelo)"
   ]
  },
  {
   "cell_type": "code",
   "execution_count": null,
   "id": "f5152bbd",
   "metadata": {},
   "outputs": [],
   "source": [
    "# Resultados\n"
   ]
  },
  {
   "cell_type": "code",
   "execution_count": 146,
   "id": "481abd9b",
   "metadata": {},
   "outputs": [
    {
     "data": {
      "text/plain": [
       "3500.0"
      ]
     },
     "execution_count": 146,
     "metadata": {},
     "output_type": "execute_result"
    }
   ],
   "source": [
    "modelo.camisetas()"
   ]
  },
  {
   "cell_type": "code",
   "execution_count": 147,
   "id": "45235202",
   "metadata": {},
   "outputs": [
    {
     "data": {
      "text/plain": [
       "1950.0"
      ]
     },
     "execution_count": 147,
     "metadata": {},
     "output_type": "execute_result"
    }
   ],
   "source": [
    "modelo.pantalones()"
   ]
  },
  {
   "cell_type": "code",
   "execution_count": 148,
   "id": "04638deb",
   "metadata": {},
   "outputs": [
    {
     "data": {
      "text/plain": [
       "200.0"
      ]
     },
     "execution_count": 148,
     "metadata": {},
     "output_type": "execute_result"
    }
   ],
   "source": [
    "modelo.chaquetas()"
   ]
  },
  {
   "cell_type": "code",
   "execution_count": 149,
   "id": "b2a2ee10",
   "metadata": {},
   "outputs": [
    {
     "data": {
      "text/plain": [
       "21650.0"
      ]
     },
     "execution_count": 149,
     "metadata": {},
     "output_type": "execute_result"
    }
   ],
   "source": [
    "modelo.utilidad()"
   ]
  },
  {
   "cell_type": "code",
   "execution_count": null,
   "id": "e0138a0c",
   "metadata": {},
   "outputs": [],
   "source": []
  },
  {
   "cell_type": "code",
   "execution_count": null,
   "id": "e5644a26",
   "metadata": {},
   "outputs": [],
   "source": []
  },
  {
   "cell_type": "code",
   "execution_count": null,
   "id": "158195c4",
   "metadata": {},
   "outputs": [],
   "source": []
  },
  {
   "cell_type": "code",
   "execution_count": null,
   "id": "afa8fa9e",
   "metadata": {},
   "outputs": [],
   "source": []
  },
  {
   "cell_type": "code",
   "execution_count": null,
   "id": "63ddee2f",
   "metadata": {},
   "outputs": [],
   "source": []
  }
 ],
 "metadata": {
  "kernelspec": {
   "display_name": "Python 3",
   "language": "python",
   "name": "python3"
  },
  "language_info": {
   "codemirror_mode": {
    "name": "ipython",
    "version": 3
   },
   "file_extension": ".py",
   "mimetype": "text/x-python",
   "name": "python",
   "nbconvert_exporter": "python",
   "pygments_lexer": "ipython3",
   "version": "3.8.8"
  }
 },
 "nbformat": 4,
 "nbformat_minor": 5
}
