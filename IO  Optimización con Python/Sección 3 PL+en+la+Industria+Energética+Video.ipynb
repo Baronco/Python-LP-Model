{
 "cells": [
  {
   "cell_type": "markdown",
   "id": "79a4c93a",
   "metadata": {},
   "source": [
    "### Ejercicio de Programación Lineal en la Industria Energética\n",
    "\n",
    "#### Contexto\n",
    "Una empresa de energía busca optimizar su mix de producción para minimizar los costos, cumpliendo con las demandas del mercado y las restricciones ambientales. La empresa utiliza una combinación de carbón, gas natural, energía eólica y solar.\n",
    "\n",
    "#### Objetivo\n",
    "Minimizar el costo total de producción, garantizando un equilibrio en el uso de diferentes fuentes de energía y cumpliendo con requisitos específicos de sostenibilidad.\n",
    "\n",
    "#### Variables de Decisión\n",
    "- `carbon`: Cantidad de energía producida por el carbón (en MWh).\n",
    "- `gas_natural`: Cantidad de energía producida por el gas natural (en MWh).\n",
    "- `eolica`: Cantidad de energía producida por fuentes eólicas (en MWh).\n",
    "- `solar`: Cantidad de energía producida por fuentes solares (en MWh).\n",
    "\n",
    "#### Función Objetivo\n",
    "- Minimizar el costo total de producción de energía.\n",
    "- `costo = 55*carbon + 58*gas_natural + 80*eolica + 75*solar`.\n",
    "\n",
    "#### Restricciones\n",
    "1. **Satisfacción de la Demanda**: \n",
    "   - La producción total de energía debe ser igual o superior a 10000 MWh.\n",
    "2. **Restricciones Ambientales - Emisiones de CO2**:\n",
    "   - Las emisiones de CO2 del carbón y el gas natural son 0.41 y 0.32 toneladas por MWh respectivamente. Las emisiones totales        deben mantenerse por debajo de las 2500 toneladas.\n",
    "3. **Fomento de Energías Renovables**:\n",
    "   - La suma de la energía producida por fuentes eólicas y solares debe ser al menos el 25% del total producido. Esto es por          legislación vigente en el país que busca fomentar el uso de energías renovables.\n",
    "4. **Requisitos de Producción Mínima**:\n",
    "   - Debe producirse un mínimo de 750 MWh de energía solar y 1500 MWh de energía eólica. Esto fue parte de las cláusulas              contractuales para los inversionistas que co-invirtirieron en conjunto con el gobierno.\n",
    "5. **No Negatividad**:\n",
    "   - Las cantidades de energía producida por cada fuente deben ser iguales o mayores que cero.\n",
    "\n"
   ]
  },
  {
   "cell_type": "code",
   "execution_count": null,
   "id": "7970c7f7",
   "metadata": {},
   "outputs": [],
   "source": [
    "# Importar Bibliotecas"
   ]
  },
  {
   "cell_type": "code",
   "execution_count": 365,
   "id": "ce3fa8a5",
   "metadata": {},
   "outputs": [],
   "source": [
    "from pyomo.environ import *"
   ]
  },
  {
   "cell_type": "code",
   "execution_count": 366,
   "id": "9170b812",
   "metadata": {},
   "outputs": [],
   "source": [
    "# Crear la instancia del modelo"
   ]
  },
  {
   "cell_type": "code",
   "execution_count": 367,
   "id": "f83c90a3",
   "metadata": {},
   "outputs": [],
   "source": [
    "modelo = ConcreteModel()"
   ]
  },
  {
   "cell_type": "code",
   "execution_count": 368,
   "id": "e76aea01",
   "metadata": {},
   "outputs": [],
   "source": [
    "# Variables de decisión"
   ]
  },
  {
   "cell_type": "code",
   "execution_count": 369,
   "id": "cc95f243",
   "metadata": {},
   "outputs": [],
   "source": [
    "modelo.carbon = Var(domain=NonNegativeReals)"
   ]
  },
  {
   "cell_type": "code",
   "execution_count": 370,
   "id": "d4be3302",
   "metadata": {},
   "outputs": [],
   "source": [
    "modelo.gasnatural = Var(domain=NonNegativeReals)"
   ]
  },
  {
   "cell_type": "code",
   "execution_count": 371,
   "id": "03a35b3a",
   "metadata": {},
   "outputs": [],
   "source": [
    "modelo.eolica = Var(domain=NonNegativeReals)"
   ]
  },
  {
   "cell_type": "code",
   "execution_count": 372,
   "id": "9368a852",
   "metadata": {},
   "outputs": [],
   "source": [
    "modelo.solar = Var(domain=NonNegativeReals)"
   ]
  },
  {
   "cell_type": "code",
   "execution_count": 373,
   "id": "069200d9",
   "metadata": {},
   "outputs": [],
   "source": [
    "# Función objetivo"
   ]
  },
  {
   "cell_type": "code",
   "execution_count": 374,
   "id": "46cf3375",
   "metadata": {},
   "outputs": [],
   "source": [
    "modelo.costo = Objective(expr=55*modelo.carbon + 58*modelo.gasnatural + 80*modelo.eolica + 75*modelo.solar, sense=minimize)"
   ]
  },
  {
   "cell_type": "code",
   "execution_count": null,
   "id": "d5a390a1",
   "metadata": {},
   "outputs": [],
   "source": [
    "# Restricciones"
   ]
  },
  {
   "cell_type": "code",
   "execution_count": 375,
   "id": "ba524ce2",
   "metadata": {},
   "outputs": [],
   "source": [
    "modelo.demanda = Constraint(expr=modelo.carbon + modelo.gasnatural + modelo.eolica + modelo.solar >= 10000)"
   ]
  },
  {
   "cell_type": "code",
   "execution_count": 376,
   "id": "4e7a8062",
   "metadata": {},
   "outputs": [],
   "source": [
    "modelo.emisionesCO2 = Constraint(expr=0.41*modelo.carbon + 0.32*modelo.gasnatural <= 2500)"
   ]
  },
  {
   "cell_type": "code",
   "execution_count": 378,
   "id": "9d739b36",
   "metadata": {},
   "outputs": [],
   "source": [
    "modelo.renovables = Constraint(expr=modelo.eolica + modelo.solar >= 0.25*(modelo.carbon + modelo.gasnatural + modelo.eolica + modelo.solar))"
   ]
  },
  {
   "cell_type": "code",
   "execution_count": 379,
   "id": "3f479ffa",
   "metadata": {},
   "outputs": [],
   "source": [
    "modelo.min_solar = Constraint(expr=modelo.solar >= 750)"
   ]
  },
  {
   "cell_type": "code",
   "execution_count": 380,
   "id": "8693faec",
   "metadata": {},
   "outputs": [],
   "source": [
    "modelo.min_eolica = Constraint(expr=modelo.eolica >= 1500)"
   ]
  },
  {
   "cell_type": "code",
   "execution_count": null,
   "id": "f4939006",
   "metadata": {},
   "outputs": [],
   "source": [
    "# Resolver el problema usando GLPK"
   ]
  },
  {
   "cell_type": "code",
   "execution_count": 381,
   "id": "b73295b6",
   "metadata": {},
   "outputs": [
    {
     "data": {
      "text/plain": [
       "{'Problem': [{'Name': 'unknown', 'Lower bound': 626666.666666667, 'Upper bound': 626666.666666667, 'Number of objectives': 1, 'Number of constraints': 6, 'Number of variables': 5, 'Number of nonzeros': 13, 'Sense': 'minimize'}], 'Solver': [{'Status': 'ok', 'Termination condition': 'optimal', 'Statistics': {'Branch and bound': {'Number of bounded subproblems': 0, 'Number of created subproblems': 0}}, 'Error rc': 0, 'Time': 0.2644309997558594}], 'Solution': [OrderedDict([('number of solutions', 0), ('number of solutions displayed', 0)])]}"
      ]
     },
     "execution_count": 381,
     "metadata": {},
     "output_type": "execute_result"
    }
   ],
   "source": [
    "SolverFactory('glpk').solve(modelo)"
   ]
  },
  {
   "cell_type": "code",
   "execution_count": null,
   "id": "0ca2b798",
   "metadata": {},
   "outputs": [],
   "source": [
    "# Imprimir las soluciones"
   ]
  },
  {
   "cell_type": "code",
   "execution_count": 382,
   "id": "c30687d9",
   "metadata": {},
   "outputs": [
    {
     "data": {
      "text/plain": [
       "1111.11111111111"
      ]
     },
     "execution_count": 382,
     "metadata": {},
     "output_type": "execute_result"
    }
   ],
   "source": [
    "modelo.carbon()"
   ]
  },
  {
   "cell_type": "code",
   "execution_count": 383,
   "id": "8b517052",
   "metadata": {},
   "outputs": [
    {
     "data": {
      "text/plain": [
       "6388.88888888889"
      ]
     },
     "execution_count": 383,
     "metadata": {},
     "output_type": "execute_result"
    }
   ],
   "source": [
    "modelo.gasnatural()"
   ]
  },
  {
   "cell_type": "code",
   "execution_count": 384,
   "id": "9710d877",
   "metadata": {},
   "outputs": [
    {
     "data": {
      "text/plain": [
       "1500.0"
      ]
     },
     "execution_count": 384,
     "metadata": {},
     "output_type": "execute_result"
    }
   ],
   "source": [
    "modelo.eolica()"
   ]
  },
  {
   "cell_type": "code",
   "execution_count": 385,
   "id": "56130e1b",
   "metadata": {},
   "outputs": [
    {
     "data": {
      "text/plain": [
       "999.999999999999"
      ]
     },
     "execution_count": 385,
     "metadata": {},
     "output_type": "execute_result"
    }
   ],
   "source": [
    "modelo.solar()"
   ]
  },
  {
   "cell_type": "code",
   "execution_count": 386,
   "id": "992466f5",
   "metadata": {},
   "outputs": [
    {
     "data": {
      "text/plain": [
       "626666.6666666666"
      ]
     },
     "execution_count": 386,
     "metadata": {},
     "output_type": "execute_result"
    }
   ],
   "source": [
    "modelo.costo()"
   ]
  },
  {
   "cell_type": "code",
   "execution_count": 387,
   "id": "ad3bfdb8",
   "metadata": {},
   "outputs": [
    {
     "data": {
      "text/plain": [
       "2500.0"
      ]
     },
     "execution_count": 387,
     "metadata": {},
     "output_type": "execute_result"
    }
   ],
   "source": [
    "modelo.emisionesCO2()"
   ]
  },
  {
   "cell_type": "code",
   "execution_count": null,
   "id": "27cbedb0",
   "metadata": {},
   "outputs": [],
   "source": []
  }
 ],
 "metadata": {
  "kernelspec": {
   "display_name": "Python 3",
   "language": "python",
   "name": "python3"
  },
  "language_info": {
   "codemirror_mode": {
    "name": "ipython",
    "version": 3
   },
   "file_extension": ".py",
   "mimetype": "text/x-python",
   "name": "python",
   "nbconvert_exporter": "python",
   "pygments_lexer": "ipython3",
   "version": "3.8.8"
  }
 },
 "nbformat": 4,
 "nbformat_minor": 5
}
