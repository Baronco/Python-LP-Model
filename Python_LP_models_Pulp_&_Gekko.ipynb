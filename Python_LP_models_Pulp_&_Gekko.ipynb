{
  "nbformat": 4,
  "nbformat_minor": 0,
  "metadata": {
    "colab": {
      "provenance": [],
      "authorship_tag": "ABX9TyP2OThe6P59w0CxNnaq4Z49",
      "include_colab_link": true
    },
    "kernelspec": {
      "name": "python3",
      "display_name": "Python 3"
    },
    "language_info": {
      "name": "python"
    }
  },
  "cells": [
    {
      "cell_type": "markdown",
      "metadata": {
        "id": "view-in-github",
        "colab_type": "text"
      },
      "source": [
        "<a href=\"https://colab.research.google.com/github/Baronco/Python-LP-Models/blob/main/Python_LP_models_Pulp_%26_Gekko.ipynb\" target=\"_parent\"><img src=\"https://colab.research.google.com/assets/colab-badge.svg\" alt=\"Open In Colab\"/></a>"
      ]
    },
    {
      "cell_type": "code",
      "execution_count": 1,
      "metadata": {
        "id": "z5OXT014uJbp"
      },
      "outputs": [],
      "source": [
        "import numpy as np\n",
        "import pandas as pd"
      ]
    },
    {
      "cell_type": "code",
      "source": [
        "!pip install pulp"
      ],
      "metadata": {
        "colab": {
          "base_uri": "https://localhost:8080/"
        },
        "id": "KKOG8lC-uVv8",
        "outputId": "e3baad57-0515-4b8e-944b-1fb5d65ec3c2"
      },
      "execution_count": 2,
      "outputs": [
        {
          "output_type": "stream",
          "name": "stdout",
          "text": [
            "Looking in indexes: https://pypi.org/simple, https://us-python.pkg.dev/colab-wheels/public/simple/\n",
            "Requirement already satisfied: pulp in /usr/local/lib/python3.8/dist-packages (2.7.0)\n"
          ]
        }
      ]
    },
    {
      "cell_type": "code",
      "source": [
        "from pulp import *"
      ],
      "metadata": {
        "id": "tnR9zCM8u3XU"
      },
      "execution_count": 3,
      "outputs": []
    },
    {
      "cell_type": "markdown",
      "source": [
        "# **PULP**\n",
        "\n",
        "- Una de las ventajas de usar Pulp es que esta libreria permite hacer analisis de precios sombra. Sin embargo, para problemas muy complejos o grandes se tienen problemas de rendimiento serios, pues no se puede hacer uso de arreglos. \n",
        "\n",
        "- PulP solo sirve para resolver problemas lineales.\n",
        "\n",
        "- Con PulP se pueden resolver problemas multiobjetivo\n",
        "\n",
        "- Las restricciones que se pueden modelar son >= , <= y =="
      ],
      "metadata": {
        "id": "iCRbS_Um3F4L"
      }
    },
    {
      "cell_type": "markdown",
      "source": [
        "- X tenis, cada par cuesta 120,000 y las vende en 250,000 \n",
        "- Y medias, cada par cuesta 2,000 y las venden en 15,000\n",
        "\n",
        "En un mes, restricciones:\n",
        "\n",
        "- 800 <= X <= 1200\n",
        "\n",
        "- 100 <= Y <= 700\n",
        "\n",
        "- x + y <= 1200\n",
        "\n",
        "FO: Max ganancias\n",
        "\n",
        "Z Max = -120,000x + 250,000x -2,000y + 15,000y\n",
        "\n",
        "Z Max = 130,000x + 13,000y"
      ],
      "metadata": {
        "id": "9s6fYiX-u-g5"
      }
    },
    {
      "cell_type": "markdown",
      "source": [
        "## **Solucion usando PULP** Caso simple\n",
        "\n",
        "Esta forma de modelar problemas se puede usar para casos muy sencillos dónde no sea fisicamente imposible definir las variables de decisión una a una\n",
        "\n",
        "https://coin-or.github.io/pulp/\n",
        "\n",
        "\n",
        "Restricciones que podemos usar: >=, <=, =="
      ],
      "metadata": {
        "id": "HRoiik76w73_"
      }
    },
    {
      "cell_type": "code",
      "source": [
        "#Creamos el problema de optimizacion\n",
        "\n",
        "prob = LpProblem(\"max_ganancias\", LpMaximize)"
      ],
      "metadata": {
        "id": "nXVs46H4zKap"
      },
      "execution_count": 12,
      "outputs": []
    },
    {
      "cell_type": "markdown",
      "source": [
        "Tipos de variables a definir:\n",
        "\n",
        "- Integer\n",
        "\n",
        "- Binary\n",
        "\n",
        "- Continuous(default)"
      ],
      "metadata": {
        "id": "NuQhiXF8Jb2H"
      }
    },
    {
      "cell_type": "code",
      "source": [
        "#Variables de decision\n",
        "\n",
        "x = LpVariable(\"tenis\", lowBound = 800, upBound = 1200, cat = 'Integer')\n",
        "y = LpVariable(\"medias\", lowBound = 100, upBound = 700, cat = 'Integer')"
      ],
      "metadata": {
        "id": "59DnBhzUu5vn"
      },
      "execution_count": 13,
      "outputs": []
    },
    {
      "cell_type": "code",
      "source": [
        "#Otra forma de escribir las restricciones\n",
        "# prob += x >= 800\n",
        "# prob += x <= 1200"
      ],
      "metadata": {
        "id": "1mJ80a8uye-C"
      },
      "execution_count": 14,
      "outputs": []
    },
    {
      "cell_type": "code",
      "source": [
        "#Restriccion de maximo de unidades de tenis y medias\n",
        "prob += x + y <= 1200"
      ],
      "metadata": {
        "id": "mz5XcF3f1_vW"
      },
      "execution_count": 15,
      "outputs": []
    },
    {
      "cell_type": "code",
      "source": [
        "#Funcion objetivo\n",
        "obj = 130000*x + 13000*y"
      ],
      "metadata": {
        "id": "j8-7SyScz-JX"
      },
      "execution_count": 16,
      "outputs": []
    },
    {
      "cell_type": "code",
      "source": [
        "#definir funcion objetivo dentro del problema\n",
        "\n",
        "prob += obj, \"obj\""
      ],
      "metadata": {
        "id": "Di-xDL9k0PRa"
      },
      "execution_count": 17,
      "outputs": []
    },
    {
      "cell_type": "code",
      "source": [
        "#Resolvemos\n",
        "prob.solve()"
      ],
      "metadata": {
        "colab": {
          "base_uri": "https://localhost:8080/"
        },
        "id": "Dn61XG0L04ul",
        "outputId": "bf1fc66d-3eec-4ac5-f383-6ad3ee26dfb7"
      },
      "execution_count": 18,
      "outputs": [
        {
          "output_type": "execute_result",
          "data": {
            "text/plain": [
              "1"
            ]
          },
          "metadata": {},
          "execution_count": 18
        }
      ]
    },
    {
      "cell_type": "code",
      "source": [
        "prob"
      ],
      "metadata": {
        "colab": {
          "base_uri": "https://localhost:8080/"
        },
        "id": "yMcafaI7Bd-r",
        "outputId": "7b06e307-093d-4841-f3dd-53eab2544827"
      },
      "execution_count": 61,
      "outputs": [
        {
          "output_type": "execute_result",
          "data": {
            "text/plain": [
              "max_ganancias:\n",
              "MAXIMIZE\n",
              "13000*medias + 130000*tenis + 0\n",
              "SUBJECT TO\n",
              "_C1: medias + tenis <= 1200\n",
              "\n",
              "VARIABLES\n",
              "100 <= medias <= 700 Integer\n",
              "800 <= tenis <= 1200 Integer"
            ]
          },
          "metadata": {},
          "execution_count": 61
        }
      ]
    },
    {
      "cell_type": "markdown",
      "source": [
        "1: Solucion encontrada exitosamente!\n",
        "\n",
        "-1: No hay solucion,no se cumplen restricciones!"
      ],
      "metadata": {
        "id": "BKRGLCxC1AkS"
      }
    },
    {
      "cell_type": "code",
      "source": [
        "print(f'Par de tennis {value(x)}')\n",
        "print(f'Par de medias {value(y)}')\n",
        "print(f'Ganancia maxima $ {value(obj):,.0f}')"
      ],
      "metadata": {
        "colab": {
          "base_uri": "https://localhost:8080/"
        },
        "id": "MBSPU64A1Jl6",
        "outputId": "fe5016b8-bf7b-4048-b417-cb0557d2bf5c"
      },
      "execution_count": 19,
      "outputs": [
        {
          "output_type": "stream",
          "name": "stdout",
          "text": [
            "Par de tennis 1100.0\n",
            "Par de medias 100.0\n",
            "Ganancia maxima $ 144,300,000\n"
          ]
        }
      ]
    },
    {
      "cell_type": "markdown",
      "source": [
        "## **Solucion usando PULP** variables de decision usando diccionarios\n",
        "\n",
        "Esta forma de modelar los problemas la usamos cuando ya el caso requiera de muchas variables de decision que por motivos de tiempo y esfuerzo nadie escribiria una a una."
      ],
      "metadata": {
        "id": "PLdUPHTV2oVp"
      }
    },
    {
      "cell_type": "code",
      "source": [
        "#Creamos el problema de optimizacion\n",
        "\n",
        "prob2 = LpProblem(\"max_ganancias2\", LpMaximize)"
      ],
      "metadata": {
        "id": "XbYd4eob4Ehq"
      },
      "execution_count": 62,
      "outputs": []
    },
    {
      "cell_type": "code",
      "source": [
        "#Variables de decision\n",
        "\n",
        "X = LpVariable.dicts(\"x\",['tenis','medias'],cat = 'Integer')\n",
        "\n",
        "X"
      ],
      "metadata": {
        "colab": {
          "base_uri": "https://localhost:8080/"
        },
        "id": "S7lBrsv14opW",
        "outputId": "7971b758-f044-4086-e508-b8267e2249aa"
      },
      "execution_count": 63,
      "outputs": [
        {
          "output_type": "execute_result",
          "data": {
            "text/plain": [
              "{'tenis': x_tenis, 'medias': x_medias}"
            ]
          },
          "metadata": {},
          "execution_count": 63
        }
      ]
    },
    {
      "cell_type": "code",
      "source": [
        "#Restricciones\n",
        "'''\n",
        "Cuando se usen los diccionarios para simplificar el planteamiento de restriccion todas las variables de ese diccionario deben tener los mismo limites (constrains)\n",
        "\n",
        "usamos un bucle for\n",
        "  for i in range(2):\n",
        "    prob += X[i] <= constrain1\n",
        "'''\n",
        "\n",
        "#Como este caso es sencillo no es necesario usar un bucle for\n",
        "prob2 += X['tenis'] <= 1200\n",
        "prob2 += X['tenis'] >= 800\n",
        "\n",
        "prob2 += X['medias'] <= 700\n",
        "prob2 += X['medias'] >= 100\n",
        "\n",
        "prob2 += X['tenis'] + X['medias'] <= 1200"
      ],
      "metadata": {
        "id": "Qae87T2g5Q-S"
      },
      "execution_count": 64,
      "outputs": []
    },
    {
      "cell_type": "markdown",
      "source": [
        "A continuación se hacen algunos cambios para que tenga sentido el planteamiento usando diccionarios porque este caso también se le podria plantear de la misma forma la FO\n",
        "\n",
        "Caso simple:\n",
        "- obj = 130000 x + 13000 y\n",
        "\n",
        "Caso con diccionario\n",
        "\n",
        "- obj = 130000 X['tenis'] + 13000 X['medias']"
      ],
      "metadata": {
        "id": "8X5cPiT4_vKr"
      }
    },
    {
      "cell_type": "code",
      "source": [
        "#coeficientes de la funcion objetivo\n",
        "'''\n",
        "Ganancias por par de tenis 130,000\n",
        "Ganancias por par de medias 13,000\n",
        "'''\n",
        "coeficientes = [130000,13000]"
      ],
      "metadata": {
        "id": "4XXTGixY851w"
      },
      "execution_count": 65,
      "outputs": []
    },
    {
      "cell_type": "code",
      "source": [
        "#Ejemplo de uso de enumerate\n",
        "for i,val in enumerate(list(X.keys())):\n",
        "  print(f'posicion {i}, valor {val}')"
      ],
      "metadata": {
        "colab": {
          "base_uri": "https://localhost:8080/"
        },
        "id": "k5c4mCY99Ylj",
        "outputId": "e2b373ed-d613-4632-b061-d5c41cc52721"
      },
      "execution_count": 66,
      "outputs": [
        {
          "output_type": "stream",
          "name": "stdout",
          "text": [
            "posicion 0, valor tenis\n",
            "posicion 1, valor medias\n"
          ]
        }
      ]
    },
    {
      "cell_type": "code",
      "source": [
        "#Funcion objetivo\n",
        "obj2 = lpSum([coeficientes[i]*X[val] for i,val in enumerate(list(X.keys()))])\n",
        "\n",
        "prob2 += obj2"
      ],
      "metadata": {
        "id": "n-sPEzhU8uz-"
      },
      "execution_count": 67,
      "outputs": []
    },
    {
      "cell_type": "code",
      "source": [
        "#Resolvemos\n",
        "prob2.solve()"
      ],
      "metadata": {
        "colab": {
          "base_uri": "https://localhost:8080/"
        },
        "id": "BkFTozj5BH85",
        "outputId": "a9ebe255-4821-4949-aaa2-e48089c76a31"
      },
      "execution_count": 68,
      "outputs": [
        {
          "output_type": "execute_result",
          "data": {
            "text/plain": [
              "1"
            ]
          },
          "metadata": {},
          "execution_count": 68
        }
      ]
    },
    {
      "cell_type": "code",
      "source": [
        "prob2"
      ],
      "metadata": {
        "colab": {
          "base_uri": "https://localhost:8080/"
        },
        "id": "vGhcsfYEBVVZ",
        "outputId": "837c4db1-5a19-4e74-a84c-d42553b0133d"
      },
      "execution_count": 69,
      "outputs": [
        {
          "output_type": "execute_result",
          "data": {
            "text/plain": [
              "max_ganancias2:\n",
              "MAXIMIZE\n",
              "13000*x_medias + 130000*x_tenis + 0\n",
              "SUBJECT TO\n",
              "_C1: x_tenis <= 1200\n",
              "\n",
              "_C2: x_tenis >= 800\n",
              "\n",
              "_C3: x_medias <= 700\n",
              "\n",
              "_C4: x_medias >= 100\n",
              "\n",
              "_C5: x_medias + x_tenis <= 1200\n",
              "\n",
              "VARIABLES\n",
              "x_medias free Integer\n",
              "x_tenis free Integer"
            ]
          },
          "metadata": {},
          "execution_count": 69
        }
      ]
    },
    {
      "cell_type": "code",
      "source": [
        "for k,val in X.items():\n",
        "  print(f'Par de {k}: {value(val)}')\n",
        "print(f'Ganancia maxima $ {value(obj2):,.0f}')"
      ],
      "metadata": {
        "colab": {
          "base_uri": "https://localhost:8080/"
        },
        "id": "ZTquCup3BqLc",
        "outputId": "5899c274-e25b-4244-fef4-ddc47d003952"
      },
      "execution_count": 74,
      "outputs": [
        {
          "output_type": "stream",
          "name": "stdout",
          "text": [
            "Par de tenis: 1100.0\n",
            "Par de medias: 100.0\n",
            "Ganancia maxima $ 144,300,000\n"
          ]
        }
      ]
    },
    {
      "cell_type": "markdown",
      "source": [
        "# **Gekko**\n",
        "\n",
        "Gekko es una libreria más avazanda que permite resolver problemas lineales y no lineales, permite tambien programacion multiobjetivo, dinamica etc.\n",
        "\n",
        "- La ventaja de usar Gekko para resolver problemas lineales es que este permite modelar usando numpy.arrays, lo cual hace que el procesamiento de la solución sea significativamente superior para problemas complejos. Sin embargo, con Gekko no se puede hacer analisis de precios sombra.\n",
        "\n",
        "- Las restricciones que se pueden modelar son >=, <= y ==\n",
        "\n",
        "\n",
        "https://gekko.readthedocs.io/en/latest/"
      ],
      "metadata": {
        "id": "yrOeWnjmDFfF"
      }
    },
    {
      "cell_type": "markdown",
      "source": [
        "**Compliquemos un poco el tema**\n",
        "\n",
        "- X tenis, cada par cuesta 120,000 y las venden en 250,000 \n",
        "- Y medias, cada par cuesta 2,000 y las venden en 15,000\n",
        "- Z botas, cada par cuesta 80,000 y las venden en 120,000\n",
        "- W relojs, cada unidad cuesta 100,000 y se vende 200,000\n",
        "\n",
        "En un mes, restricciones:\n",
        "\n",
        "- 800 <= X <= 1200\n",
        "\n",
        "- 100 <= Y <= 700\n",
        "\n",
        "- 180 <= Z <= 900\n",
        "\n",
        "- 250 <= W <= 750\n",
        "\n",
        "- x + y + z + w <= 2500\n",
        "\n",
        "FO: Max ganancias\n",
        "\n",
        "Z Max = 130,000x + 13,000y + 40,000z + 100,000w"
      ],
      "metadata": {
        "id": "ZzCGLMq9EWHh"
      }
    },
    {
      "cell_type": "code",
      "source": [
        "!pip install gekko"
      ],
      "metadata": {
        "colab": {
          "base_uri": "https://localhost:8080/"
        },
        "id": "fdZ5lSHNGSPh",
        "outputId": "82584af1-423b-42eb-b5c0-6e9b708974e7"
      },
      "execution_count": 77,
      "outputs": [
        {
          "output_type": "stream",
          "name": "stdout",
          "text": [
            "Looking in indexes: https://pypi.org/simple, https://us-python.pkg.dev/colab-wheels/public/simple/\n",
            "Requirement already satisfied: gekko in /usr/local/lib/python3.8/dist-packages (1.0.6)\n",
            "Requirement already satisfied: numpy>=1.8 in /usr/local/lib/python3.8/dist-packages (from gekko) (1.21.6)\n"
          ]
        }
      ]
    },
    {
      "cell_type": "code",
      "source": [
        "from gekko import GEKKO"
      ],
      "metadata": {
        "id": "wRATGTQUGppB"
      },
      "execution_count": 76,
      "outputs": []
    },
    {
      "cell_type": "markdown",
      "source": [
        "## **Solucion usando GEKKO** Caso simple"
      ],
      "metadata": {
        "id": "88wyzS8rGxqx"
      }
    },
    {
      "cell_type": "code",
      "source": [
        "#Inicilizar el problema, remote=False para solucionar en local\n",
        "problema = GEKKO(remote=False)"
      ],
      "metadata": {
        "id": "cjfpfkRdG0ZS"
      },
      "execution_count": 108,
      "outputs": []
    },
    {
      "cell_type": "code",
      "source": [
        "#opciones para resolver de forma lineal\n",
        "problema.options.solver = 1\n",
        "problema.options.linear = 1"
      ],
      "metadata": {
        "id": "zN43xb1LHpCu"
      },
      "execution_count": 109,
      "outputs": []
    },
    {
      "cell_type": "code",
      "source": [
        "#Definir variables de decision\n",
        "x = problema.Var(name = 'tenis', lb = 800, ub = 1200,integer=True)\n",
        "y = problema.Var(name = 'medias', lb = 100, ub = 700, integer=True)\n",
        "z = problema.Var(name = 'botas', lb = 180, ub = 900, integer=True)\n",
        "w = problema.Var(name = 'relojes', lb = 250, ub = 750, integer=True)"
      ],
      "metadata": {
        "id": "oyaGx40PH5UO"
      },
      "execution_count": 110,
      "outputs": []
    },
    {
      "cell_type": "code",
      "source": [
        "#Restriccion\n",
        "problema.Equation(x + y + z + w <= 2500)"
      ],
      "metadata": {
        "colab": {
          "base_uri": "https://localhost:8080/"
        },
        "id": "5IvE1ySzKK-j",
        "outputId": "ad38919d-dfc6-4189-8c92-772609650ae5"
      },
      "execution_count": 111,
      "outputs": [
        {
          "output_type": "execute_result",
          "data": {
            "text/plain": [
              "<gekko.gekko.EquationObj at 0x7f772cf9e7c0>"
            ]
          },
          "metadata": {},
          "execution_count": 111
        }
      ]
    },
    {
      "cell_type": "code",
      "source": [
        "#Objectivo\n",
        "objetivo = 130000*x + 13000*y + 40000*z + 100000*w\n",
        "\n",
        "problema.Maximize(objetivo)"
      ],
      "metadata": {
        "id": "F4UDiSD5LIB1"
      },
      "execution_count": 112,
      "outputs": []
    },
    {
      "cell_type": "code",
      "source": [
        "#Resolvemos, debug=0 permite ver resultados aunque la optimizacion no haya sido exitosa\n",
        "problema.solve(debug=0)"
      ],
      "metadata": {
        "colab": {
          "base_uri": "https://localhost:8080/"
        },
        "id": "TKA_UnL2Lh-l",
        "outputId": "46c46b08-d980-421d-c162-d27694b285bd"
      },
      "execution_count": 113,
      "outputs": [
        {
          "output_type": "stream",
          "name": "stdout",
          "text": [
            " ----------------------------------------------------------------\n",
            " APMonitor, Version 1.0.1\n",
            " APMonitor Optimization Suite\n",
            " ----------------------------------------------------------------\n",
            " \n",
            " \n",
            " --------- APM Model Size ------------\n",
            " Each time step contains\n",
            "   Objects      :            0\n",
            "   Constants    :            0\n",
            "   Variables    :            5\n",
            "   Intermediates:            0\n",
            "   Connections  :            0\n",
            "   Equations    :            2\n",
            "   Residuals    :            2\n",
            " \n",
            " Number of state variables:              5\n",
            " Number of total equations: -            1\n",
            " Number of slack variables: -            1\n",
            " ---------------------------------------\n",
            " Degrees of freedom       :              3\n",
            " \n",
            " ----------------------------------------------\n",
            " Steady State Optimization with APOPT Solver\n",
            " ----------------------------------------------\n",
            "Iter:     1 I:  0 Tm:      0.00 NLPi:    0 Dpth:    0 Lvs:    0 Obj: -2.50E+08 Gap:  0.00E+00\n",
            " Successful solution\n",
            " \n",
            " ---------------------------------------------------\n",
            " Solver         :  APOPT (v1.0)\n",
            " Solution time  :   3.620000000228174E-002 sec\n",
            " Objective      :   -250300000.000000     \n",
            " Successful solution\n",
            " ---------------------------------------------------\n",
            " \n",
            "\n"
          ]
        }
      ]
    },
    {
      "cell_type": "code",
      "source": [
        "print(f'Par de tenis: {x.value[0]}')\n",
        "print(f'Par de medias: {y.value[0]}')\n",
        "print(f'Par de botas: {z.value[0]}')\n",
        "print(f'Par de relojes: {w.value[0]}')\n",
        "print(f'Ganancia maxima $ {130000*x.value[0] + 13000*y.value[0] + 40000*z.value[0] + 100000*w.value[0] :,.0f}')"
      ],
      "metadata": {
        "colab": {
          "base_uri": "https://localhost:8080/"
        },
        "id": "ORFlKtzINRno",
        "outputId": "269d4665-64b6-4745-e94f-dbe25a774ae6"
      },
      "execution_count": 130,
      "outputs": [
        {
          "output_type": "stream",
          "name": "stdout",
          "text": [
            "Par de tenis: 1200.0\n",
            "Par de medias: 100.0\n",
            "Par de botas: 450.0\n",
            "Par de relojes: 750.0\n",
            "Ganancia maxima $ 250,300,000\n"
          ]
        }
      ]
    },
    {
      "cell_type": "markdown",
      "source": [
        "## **Solucion usando GEKKO** Caso matricial"
      ],
      "metadata": {
        "id": "6qP1p7myOMSP"
      }
    },
    {
      "cell_type": "code",
      "source": [
        "#Inicilizar el problema, remote=False para solucionar en local\n",
        "problema2 = GEKKO(remote=False)"
      ],
      "metadata": {
        "id": "24-X3TnEOU0S"
      },
      "execution_count": 158,
      "outputs": []
    },
    {
      "cell_type": "code",
      "source": [
        "#opciones para resolver de forma lineal\n",
        "problema2.options.solver = 1\n",
        "problema2.options.linear = 1"
      ],
      "metadata": {
        "id": "4hvAJkxGOax-"
      },
      "execution_count": 159,
      "outputs": []
    },
    {
      "cell_type": "code",
      "source": [
        "#Definir variables de decision usando vectores\n",
        "X = problema2.Array(f = problema2.Var,\n",
        "                    dim = 4,\n",
        "                    integer = True)"
      ],
      "metadata": {
        "id": "DAq8jn8eOgni"
      },
      "execution_count": 160,
      "outputs": []
    },
    {
      "cell_type": "code",
      "source": [
        "#Restriccion 1\n",
        "problema2.Equation(X[0] >= 800)\n",
        "problema2.Equation(X[1] >= 100)\n",
        "problema2.Equation(X[2] >= 180)\n",
        "problema2.Equation(X[3] >= 250)\n",
        "\n",
        "problema2.Equation(X[0] <= 1200)\n",
        "problema2.Equation(X[1] <= 700)\n",
        "problema2.Equation(X[2] <= 900)\n",
        "problema2.Equation(X[3] <= 750)"
      ],
      "metadata": {
        "colab": {
          "base_uri": "https://localhost:8080/"
        },
        "id": "aG-2jQkAPLI2",
        "outputId": "91954589-97e3-4d49-8cf1-868c75983327"
      },
      "execution_count": 161,
      "outputs": [
        {
          "output_type": "execute_result",
          "data": {
            "text/plain": [
              "<gekko.gekko.EquationObj at 0x7f772cc22d90>"
            ]
          },
          "metadata": {},
          "execution_count": 161
        }
      ]
    },
    {
      "cell_type": "code",
      "source": [
        "#Restriccion 2\n",
        "problema2.Equation(problema.sum(X) <= 2500 )"
      ],
      "metadata": {
        "colab": {
          "base_uri": "https://localhost:8080/"
        },
        "id": "ZSuXNxRTSyYy",
        "outputId": "5be67554-20d7-4f66-f46c-3f207a6c861d"
      },
      "execution_count": 162,
      "outputs": [
        {
          "output_type": "execute_result",
          "data": {
            "text/plain": [
              "<gekko.gekko.EquationObj at 0x7f772cf7a3a0>"
            ]
          },
          "metadata": {},
          "execution_count": 162
        }
      ]
    },
    {
      "cell_type": "code",
      "source": [
        "#Coeficientes ganancias\n",
        "\n",
        "coef = np.array([130000, 13000, 40000, 100000])"
      ],
      "metadata": {
        "id": "ZXF3Om15TUBz"
      },
      "execution_count": 163,
      "outputs": []
    },
    {
      "cell_type": "code",
      "source": [
        "#Funcion objetivo\n",
        "objetivo2 = np.dot(coef, X)"
      ],
      "metadata": {
        "id": "kASgLyZMTfF2"
      },
      "execution_count": 164,
      "outputs": []
    },
    {
      "cell_type": "code",
      "source": [
        "#Maximizar\n",
        "problema2.Maximize(objetivo2)"
      ],
      "metadata": {
        "id": "S_0GUAptTIty"
      },
      "execution_count": 165,
      "outputs": []
    },
    {
      "cell_type": "code",
      "source": [
        "problema2.solve(debug=0)"
      ],
      "metadata": {
        "colab": {
          "base_uri": "https://localhost:8080/"
        },
        "id": "wmiLLSJQUwO3",
        "outputId": "c9cc2bf9-4fe7-4ae6-a961-b18c5d6ace8f"
      },
      "execution_count": 166,
      "outputs": [
        {
          "output_type": "stream",
          "name": "stdout",
          "text": [
            " ----------------------------------------------------------------\n",
            " APMonitor, Version 1.0.1\n",
            " APMonitor Optimization Suite\n",
            " ----------------------------------------------------------------\n",
            " \n",
            " \n",
            " --------- APM Model Size ------------\n",
            " Each time step contains\n",
            "   Objects      :            0\n",
            "   Constants    :            0\n",
            "   Variables    :           13\n",
            "   Intermediates:            0\n",
            "   Connections  :            0\n",
            "   Equations    :           10\n",
            "   Residuals    :           10\n",
            " \n",
            " Number of state variables:             13\n",
            " Number of total equations: -            9\n",
            " Number of slack variables: -            9\n",
            " ---------------------------------------\n",
            " Degrees of freedom       :             -5\n",
            " \n",
            " * Warning: DOF <= 0\n",
            " ----------------------------------------------\n",
            " Steady State Optimization with APOPT Solver\n",
            " ----------------------------------------------\n",
            "Iter:     1 I:  0 Tm:      0.00 NLPi:    0 Dpth:    0 Lvs:    0 Obj: -2.50E+08 Gap:  0.00E+00\n",
            " Successful solution\n",
            " \n",
            " ---------------------------------------------------\n",
            " Solver         :  APOPT (v1.0)\n",
            " Solution time  :   2.170000000114669E-002 sec\n",
            " Objective      :   -250300000.000000     \n",
            " Successful solution\n",
            " ---------------------------------------------------\n",
            " \n",
            "\n"
          ]
        }
      ]
    },
    {
      "cell_type": "code",
      "source": [
        "resultados = []\n",
        "\n",
        "for i in range(4):\n",
        "  resultados.append(X[i].value[0])\n",
        "\n",
        "resultados = np.array(resultados)\n",
        "\n",
        "print(f'Par de tenis: {resultados[0]}')\n",
        "print(f'Par de medias: {resultados[1]}')\n",
        "print(f'Par de botas: {resultados[2]}')\n",
        "print(f'Par de relojes: {resultados[3]}')\n",
        "\n",
        "print(f'Ganancia maxima $ {np.dot(coef,resultados) :,.0f}')"
      ],
      "metadata": {
        "colab": {
          "base_uri": "https://localhost:8080/"
        },
        "id": "ZTv250DEU75J",
        "outputId": "e02098f4-6f67-4845-eb16-66a8842bda21"
      },
      "execution_count": 170,
      "outputs": [
        {
          "output_type": "stream",
          "name": "stdout",
          "text": [
            "Par de tenis: 1200.0\n",
            "Par de medias: 100.0\n",
            "Par de botas: 450.0\n",
            "Par de relojes: 750.0\n",
            "Ganancia maxima $ 250,300,000\n"
          ]
        }
      ]
    }
  ]
}